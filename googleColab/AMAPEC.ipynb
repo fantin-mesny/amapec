{
  "nbformat": 4,
  "nbformat_minor": 0,
  "metadata": {
    "colab": {
      "provenance": []
    },
    "kernelspec": {
      "name": "python3",
      "display_name": "Python 3"
    },
    "language_info": {
      "name": "python"
    }
  },
  "cells": [
    {
      "cell_type": "markdown",
      "source": [
        "![](https://github.com/fantin-mesny/amapec/raw/main/amapec_logo.svg)\n",
        "\n",
        "## About\n",
        "\n",
        "This notebook allows to try AMAPEC and to compute online antimicrobial activity predictions.\n",
        "\n",
        "AMAPEC is a predictor of antimicrobial activity for fungal secreted proteins, that aims to assist researchers in the characterization of new effectors. By offering unprecedented functional insights into fungal secretomes (generally sparsely functionally annotated), it may aid in biological interpretations during genomic, transcriptomic and proteomic analyses.\n",
        "\n",
        "Using a (predicted) protein structure as input, AMAPEC returns:\n",
        "- a mean confidence score for the input predicted protein structure (pLDDT⁠), with the rationale that a low-confidence structure may obtain a predicted antimicrobial activity that is not biologically meaningful\n",
        "- a classification as ‘Antimicrobial’ or ‘Non-antimicrobial’\n",
        "- a probability score for its antimicrobial activity, that ranges between 0 (no antimicrobial activity) and 1 (highly likely to be antimicrobial).\n",
        "\n",
        "## Citation\n",
        "\n",
        "Mesny, F. & Thomma, B. P. (2024). AMAPEC: accurate antimicrobial activity prediction for fungal effector proteins. *BioRxiv*, 2024-01.\n",
        "\n",
        "## Instructions\n",
        "\n",
        "1) In the menu bar, click `Runtime` > `Run all`.\n",
        "\n",
        "2) Below, under `Upload PDB file(s)`, select one (or a few) PDB file(s) to upload.\n",
        "\n",
        "3) Wait and see!"
      ],
      "metadata": {
        "id": "gK18_AHcrFy5"
      }
    },
    {
      "cell_type": "markdown",
      "source": [
        "## Upload PDB file(s)"
      ],
      "metadata": {
        "id": "EdiP-6peqDGX"
      }
    },
    {
      "cell_type": "code",
      "source": [
        "from google.colab import files\n",
        "import os\n",
        "if not os.path.exists('/content/uploaded_pdb'):\n",
        "  os.mkdir('/content/uploaded_pdb')\n",
        "os.chdir('/content/uploaded_pdb')\n",
        "uploaded = files.upload()\n",
        "os.chdir('/content')"
      ],
      "metadata": {
        "id": "lhLpKo8npht-"
      },
      "execution_count": null,
      "outputs": []
    },
    {
      "cell_type": "markdown",
      "source": [
        "## Install AMAPEC and dependencies"
      ],
      "metadata": {
        "id": "8opFUs-dpNp5"
      }
    },
    {
      "cell_type": "code",
      "execution_count": 6,
      "metadata": {
        "id": "_7dRTNfFm-q8"
      },
      "outputs": [],
      "source": [
        "! git clone https://github.com/fantin-mesny/amapec > ./amapec.gitclone.log 2>&1\n",
        "! chmod +x ./amapec/amapec\n",
        "! bash ./amapec/googleColab/install_mamba_and_dependencies.sh > ./amapec/install.log 2>&1"
      ]
    },
    {
      "cell_type": "markdown",
      "source": [
        "This step might take a few minutes..."
      ],
      "metadata": {
        "id": "mNvpt25mu1h2"
      }
    },
    {
      "cell_type": "markdown",
      "source": [
        "##Run antimicrobial activity prediction"
      ],
      "metadata": {
        "id": "CfCeNXHhpUjv"
      }
    },
    {
      "cell_type": "code",
      "source": [
        "! rm -rf ./uploaded_pdb_AMprediction && source activate amapec && ./amapec/amapec -i ./uploaded_pdb -t $(ls ./uploaded_pdb | wc -l) -o ./uploaded_pdb_AMprediction"
      ],
      "metadata": {
        "id": "Ajnzov75pX9p"
      },
      "execution_count": null,
      "outputs": []
    },
    {
      "cell_type": "markdown",
      "source": [
        "## See results"
      ],
      "metadata": {
        "id": "FAsvasGfwQHN"
      }
    },
    {
      "cell_type": "code",
      "source": [
        "import pandas as pd\n",
        "pd.read_csv('./uploaded_pdb_AMprediction/prediction.csv').set_index('Protein ID')"
      ],
      "metadata": {
        "id": "1UjOC6IiwTAt"
      },
      "execution_count": null,
      "outputs": []
    }
  ]
}